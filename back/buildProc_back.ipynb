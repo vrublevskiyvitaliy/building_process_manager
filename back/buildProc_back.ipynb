{
 "cells": [
  {
   "cell_type": "code",
   "metadata": {},
   "outputs": [
    {
     "name": "stdout",
     "output_type": "stream",
     "text": [
      "importing Jupyter notebook from buildProc_kernel.ipynb\n",
      "First image features: 2617\n",
      "Second image features: 2826\n",
      "Second image features: 869\n",
      "Similarity: 33.20596102407337 %\n",
      "1: (450, 800), 2: (800, 450)\n",
      "function result: 69.55\n",
      " * Serving Flask app \"__main__\" (lazy loading)\n",
      " * Environment: production\n",
      "   WARNING: Do not use the development server in a production environment.\n",
      "   Use a production WSGI server instead.\n",
      " * Debug mode: on\n"
     ]
    },
    {
     "name": "stderr",
     "output_type": "stream",
     "text": [
      "INFO:werkzeug: * Running on http://0.0.0.0:5000/ (Press CTRL+C to quit)\n",
      "INFO:test log massage:welcome to upload\n"
     ]
    },
    {
     "name": "stdout",
     "output_type": "stream",
     "text": [
      "uploaded/test_docs/1.jpg\n",
      "1: (450, 800), 2: (800, 450)\n"
     ]
    },
    {
     "name": "stderr",
     "output_type": "stream",
     "text": [
      "INFO:werkzeug:127.0.0.1 - - [11/Apr/2019 14:39:36] \"\u001b[37mPOST /upload HTTP/1.1\u001b[0m\" 200 -\n"
     ]
    },
    {
     "name": "stdout",
     "output_type": "stream",
     "text": [
      "live sim calc: 70.4\n"
     ]
    },
    {
     "name": "stderr",
     "output_type": "stream",
     "text": [
      "INFO:test log massage:welcome to upload\n"
     ]
    },
    {
     "name": "stdout",
     "output_type": "stream",
     "text": [
      "uploaded/test_docs/3.jpg\n",
      "1: (450, 800), 2: (800, 450)\n"
     ]
    },
    {
     "name": "stderr",
     "output_type": "stream",
     "text": [
      "INFO:werkzeug:127.0.0.1 - - [11/Apr/2019 14:39:46] \"\u001b[37mPOST /upload HTTP/1.1\u001b[0m\" 200 -\n"
     ]
    },
    {
     "name": "stdout",
     "output_type": "stream",
     "text": [
      "live sim calc: 64.26\n"
     ]
    },
    {
     "name": "stderr",
     "output_type": "stream",
     "text": [
      "INFO:test log massage:welcome to upload\n"
     ]
    },
    {
     "name": "stdout",
     "output_type": "stream",
     "text": [
      "uploaded/test_docs/1.jpg\n",
      "1: (450, 800), 2: (800, 450)\n"
     ]
    },
    {
     "name": "stderr",
     "output_type": "stream",
     "text": [
      "INFO:werkzeug:127.0.0.1 - - [11/Apr/2019 14:39:59] \"\u001b[37mPOST /upload HTTP/1.1\u001b[0m\" 200 -\n"
     ]
    },
    {
     "name": "stdout",
     "output_type": "stream",
     "text": [
      "live sim calc: 70.4\n"
     ]
    },
    {
     "name": "stderr",
     "output_type": "stream",
     "text": [
      "INFO:test log massage:welcome to upload\n"
     ]
    },
    {
     "name": "stdout",
     "output_type": "stream",
     "text": [
      "uploaded/test_docs/2.jpg\n",
      "1: (450, 800), 2: (800, 450)\n"
     ]
    },
    {
     "name": "stderr",
     "output_type": "stream",
     "text": [
      "INFO:werkzeug:127.0.0.1 - - [11/Apr/2019 14:40:13] \"\u001b[37mPOST /upload HTTP/1.1\u001b[0m\" 200 -\n"
     ]
    },
    {
     "name": "stdout",
     "output_type": "stream",
     "text": [
      "live sim calc: 100.0\n"
     ]
    },
    {
     "name": "stderr",
     "output_type": "stream",
     "text": [
      "INFO:test log massage:welcome to upload\n"
     ]
    },
    {
     "name": "stdout",
     "output_type": "stream",
     "text": [
      "uploaded/test_docs/4.jpg\n",
      "1: (398, 530), 2: (530, 398)\n"
     ]
    },
    {
     "name": "stderr",
     "output_type": "stream",
     "text": [
      "INFO:werkzeug:127.0.0.1 - - [11/Apr/2019 14:41:02] \"\u001b[37mPOST /upload HTTP/1.1\u001b[0m\" 200 -\n"
     ]
    },
    {
     "name": "stdout",
     "output_type": "stream",
     "text": [
      "live sim calc: 38.52\n"
     ]
    },
    {
     "name": "stderr",
     "output_type": "stream",
     "text": [
      "INFO:test log massage:welcome to upload\n"
     ]
    },
    {
     "name": "stdout",
     "output_type": "stream",
     "text": [
      "uploaded/test_docs/1.jpg\n",
      "1: (450, 800), 2: (800, 450)\n"
     ]
    },
    {
     "name": "stderr",
     "output_type": "stream",
     "text": [
      "INFO:werkzeug:127.0.0.1 - - [11/Apr/2019 14:41:08] \"\u001b[37mPOST /upload HTTP/1.1\u001b[0m\" 200 -\n"
     ]
    },
    {
     "name": "stdout",
     "output_type": "stream",
     "text": [
      "live sim calc: 70.4\n"
     ]
    },
    {
     "name": "stderr",
     "output_type": "stream",
     "text": [
      "INFO:test log massage:welcome to upload\n"
     ]
    },
    {
     "name": "stdout",
     "output_type": "stream",
     "text": [
      "uploaded/test_docs/3.jpg\n",
      "1: (450, 800), 2: (800, 450)\n"
     ]
    },
    {
     "name": "stderr",
     "output_type": "stream",
     "text": [
      "INFO:werkzeug:127.0.0.1 - - [11/Apr/2019 14:41:13] \"\u001b[37mPOST /upload HTTP/1.1\u001b[0m\" 200 -\n"
     ]
    },
    {
     "name": "stdout",
     "output_type": "stream",
     "text": [
      "live sim calc: 64.26\n"
     ]
    },
    {
     "name": "stderr",
     "output_type": "stream",
     "text": [
      "INFO:test log massage:welcome to upload\n"
     ]
    },
    {
     "name": "stdout",
     "output_type": "stream",
     "text": [
      "uploaded/test_docs/2.jpg\n",
      "1: (450, 800), 2: (800, 450)\n"
     ]
    },
    {
     "name": "stderr",
     "output_type": "stream",
     "text": [
      "INFO:werkzeug:127.0.0.1 - - [11/Apr/2019 15:03:37] \"\u001b[37mPOST /upload HTTP/1.1\u001b[0m\" 200 -\n"
     ]
    },
    {
     "name": "stdout",
     "output_type": "stream",
     "text": [
      "live sim calc: 100.0\n"
     ]
    }
   ],
   "source": [
    "import os\n",
    "from flask import Flask, flash, request, redirect, url_for, session, jsonify, Response\n",
    "from flask_json import FlaskJSON, JsonError, json_response, as_json\n",
    "from werkzeug.utils import secure_filename\n",
    "from flask_cors import CORS, cross_origin\n",
    "import logging\n",
    "import import_ipynb\n",
    "from buildProc_kernel import *\n",
    "import json\n",
    "\n",
    "logging.basicConfig(level=logging.INFO)\n",
    "uploaded_images_destinations = []\n",
    "\n",
    "logger = logging.getLogger('test log massage')\n",
    "\n",
    "UPLOAD_FOLDER = 'uploaded/'\n",
    "ALLOWED_EXTENSIONS = set(['txt', 'pdf', 'png', 'jpg', 'jpeg', 'gif'])\n",
    "\n",
    "app = Flask(__name__)\n",
    "app.config['UPLOAD_FOLDER'] = UPLOAD_FOLDER\n",
    "\n",
    "@app.route('/upload', methods=['POST'])\n",
    "@cross_origin(allow_headers=['Content-Type'])\n",
    "def fileUpload():\n",
    "    '''\n",
    "        This view has CORS enabled for all domains, and allows browsers\n",
    "        to send the Content-Type header, allowing cross domain AJAX POST\n",
    "        requests.\n",
    "\n",
    "        $ http post  http://0.0.0.0:5000/upload\n",
    "        HTTP/1.0 200 OK\n",
    "        Access-Control-Allow-Headers: Content-Type\n",
    "        Access-Control-Allow-Origin: *\n",
    "        {\n",
    "            \"success\": true\n",
    "        }\n",
    "\n",
    "    '''\n",
    "    target=os.path.join(UPLOAD_FOLDER,'test_docs')\n",
    "    if not os.path.isdir(target):\n",
    "        os.mkdir(target)\n",
    "    logger.info(\"welcome to upload\")\n",
    "    file = request.files['file'] \n",
    "    filename = secure_filename(file.filename)\n",
    "    destination=\"/\".join([target, filename])\n",
    "    print(destination)\n",
    "    file.save(destination)\n",
    "    uploaded_images_destinations.append(destination)\n",
    "    # calculate similarity\n",
    "    sim = find_similarity(TEST_IMAGE_2, destination)\n",
    "    print(\"live sim calc: {}\".format(sim))\n",
    "    session['uploadFilePath']=destination\n",
    "    return jsonify({'similarity': sim}), 200\n",
    "\n",
    "if __name__ == \"__main__\":\n",
    "    app.secret_key = os.urandom(24)\n",
    "    app.run(debug=True,host=\"0.0.0.0\",use_reloader=False)\n",
    "\n",
    "#flask_cors.CORS(app, expose_headers='Authorization')"
   ]
  },
  {
   "cell_type": "code",
   "metadata": {},
   "outputs": [],
   "source": [
    ""
   ]
  }
 ],
 "metadata": {
  "kernelspec": {
   "display_name": "Python 3",
   "language": "python",
   "name": "python3"
  },
  "language_info": {
   "codemirror_mode": {
    "name": "ipython",
    "version": 3.0
   },
   "file_extension": ".py",
   "mimetype": "text/x-python",
   "name": "python",
   "nbconvert_exporter": "python",
   "pygments_lexer": "ipython3",
   "version": "3.6.8"
  },
  "latex_envs": {
   "LaTeX_envs_menu_present": true,
   "autoclose": false,
   "autocomplete": true,
   "bibliofile": "biblio.bib",
   "cite_by": "apalike",
   "current_citInitial": 1.0,
   "eqLabelWithNumbers": true,
   "eqNumInitial": 1.0,
   "hotkeys": {
    "equation": "Ctrl-E",
    "itemize": "Ctrl-I"
   },
   "labels_anchors": false,
   "latex_user_defs": false,
   "report_style_numbering": false,
   "user_envs_cfg": false
  }
 },
 "nbformat": 4,
 "nbformat_minor": 2
}